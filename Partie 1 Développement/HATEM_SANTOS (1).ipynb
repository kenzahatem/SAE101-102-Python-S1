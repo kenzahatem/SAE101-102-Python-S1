{
 "cells": [
  {
   "cell_type": "code",
   "execution_count": 43,
   "id": "e6de844b",
   "metadata": {},
   "outputs": [],
   "source": [
    "#Question_préliminaire\n",
    "\"\"\"créer un tableau d'amis qui modélise le réseau d'amis selon le principe \"\"\"\n",
    "\n",
    "p_amis=[\"Yasmine\",\"Muriel\",\"Joël\",\"Yasmine\",\"Joël\",\"Muriel\",\"Yasmine\",\"Thomas\",\"Joël\",\"Nassim\",\"Andrea\",\"Ali\",\"Joël\",\"Ali\",\n",
    "        \"Joël\",\"Andrea\",\"Nassim\",\"Ali\",\"Nassim\",\"Andrea\",\"Thomas\",\"Daria\",\"Thomas\",\"Carole\",\"Thierry\",\"Axel\",\"Léo\",\"Thierry\",\n",
    "        \"Léo\",\"Axel\",\"Léo\",\"Valentin\",\"Andrea\",\"Valentin\"]\n"
   ]
  },
  {
   "cell_type": "code",
   "execution_count": 44,
   "id": "5a855ed3",
   "metadata": {},
   "outputs": [],
   "source": [
    "#Définition du tableau \n",
    "\n",
    "amis = [\"Alice\", \"Bob\", \"Alice\", \"Charlie\", \"Bob\", \"Denis\"]"
   ]
  },
  {
   "cell_type": "code",
   "execution_count": 45,
   "id": "75a0b0ed",
   "metadata": {},
   "outputs": [],
   "source": [
    "#Création d'un tableau pour tester les fonctions \n",
    "\n",
    "t_amis =[\"Sarah\",\"Aya\",\"Amina\",\"Georges\",\"Sarah\",\"Frédéric\",\"Sarah\",\"Chloé\",\"Georges\",\"Aya\"]"
   ]
  },
  {
   "cell_type": "code",
   "execution_count": 47,
   "id": "c90fa324",
   "metadata": {},
   "outputs": [],
   "source": [
    "#Question 1\n",
    "\"\"\"Renvoyer le nombre de répetition du prénom dans le tableau\"\"\"\n",
    "\n",
    "\n",
    "def nb_amis(amis,prenom):\n",
    "    i=0\n",
    "    #créer une variable ami qu'on initialise à zéro et qui prend à la fin le nombre de répétition du prenom\n",
    "    ami=0\n",
    "    while i<len(amis):\n",
    "        #si l'élement de l'indice i est égal à prenom \n",
    "        if amis[i]==prenom:\n",
    "            ami+=1\n",
    "        i+=1\n",
    "    return ami\n",
    "\n"
   ]
  },
  {
   "cell_type": "code",
   "execution_count": 48,
   "id": "672f152d",
   "metadata": {},
   "outputs": [
    {
     "name": "stdout",
     "output_type": "stream",
     "text": [
      "le test de la foncion nb_amis est ok \n"
     ]
    }
   ],
   "source": [
    "#Test de la question 1\n",
    "\n",
    "def test_nb_amis():\n",
    "    assert nb_amis(p_amis,\"Yasmine\")==3\n",
    "    assert nb_amis(amis,\"Alice\")==2\n",
    "    assert nb_amis(amis,\"charles\")==0\n",
    "    assert nb_amis(t_amis,\"Georges\")==2\n",
    "    assert nb_amis(t_amis,\"Sarah\")==3\n",
    "    print(\"le test de la foncion nb_amis est ok \")\n",
    "    \n",
    "test_nb_amis()"
   ]
  },
  {
   "cell_type": "code",
   "execution_count": 50,
   "id": "d541fb6c",
   "metadata": {},
   "outputs": [],
   "source": [
    "#Question 2\n",
    "#Créer une fonction qui retourne un tableau des individus distincts \n",
    "\n",
    "\"\"\"consiste à créer un tableau vide et ajouter le prénom tant qu'il n'y est pas dans la tableau \"\"\"\n",
    "\n",
    "def tab_taille_personne(amis):\n",
    "    i=0\n",
    "    tab=[]\n",
    "    while i<len(amis):\n",
    "        #si le prénom n'est pas un élément du tableau on l'ajoute\n",
    "        if amis[i] not in tab:\n",
    "            tab.append(amis[i])\n",
    "        i+=1\n",
    "    return tab\n",
    "\n",
    "\"\"\"Créer une fonction qui renvoie la longueur du tableau de la fonction tab_taille_personne\"\"\"\n",
    "\n",
    "def taille_personne(amis):\n",
    "    return len(tab_taille_personne(amis))\n",
    "        "
   ]
  },
  {
   "cell_type": "code",
   "execution_count": 51,
   "id": "9a0789b1",
   "metadata": {},
   "outputs": [
    {
     "name": "stdout",
     "output_type": "stream",
     "text": [
      "Le test de la fonction taille_personne est ok \n"
     ]
    }
   ],
   "source": [
    "#Test de la question 2\n",
    "\n",
    "\"\"\"créer une fonction qui teste la fonction taille_personne\"\"\" \n",
    "\n",
    "def test_taille_personne():\n",
    "    assert taille_personne(amis)==4\n",
    "    assert taille_personne(p_amis)==13\n",
    "    assert not taille_personne(amis)==2\n",
    "    assert taille_personne(t_amis)==6\n",
    "    print(\"Le test de la fonction taille_personne est ok \")\n",
    "    \n",
    "test_taille_personne()"
   ]
  },
  {
   "cell_type": "code",
   "execution_count": 52,
   "id": "7ec5ee90",
   "metadata": {},
   "outputs": [],
   "source": [
    "#Question3\n",
    "\"\"\" Une fonction qui prend en paramètre un chemin vers un fichier et retourner\n",
    "un tableau modélisant les interactions entre les personnes du fichier \"\"\"\n",
    "\n",
    "def lecture_path(path):\n",
    "    fichier=open(path,encoding='utf-8',mode='r')\n",
    "    tab=[]\n",
    "    li=fichier.readline()\n",
    "    #lire le fichier jusqu'à la dernière ligne \"\"\n",
    "    while li!=\"\":\n",
    "        li=li.strip()       #pour effacer les espaces au début et à la fin de la chaine de caractère\n",
    "        li=li.split(\";\")    #séparer la cahine là où il y a ';' \n",
    "        tab.append(li[0])  \n",
    "        tab.append(li[1])\n",
    "        li=fichier.readline()\n",
    "    return tab \n"
   ]
  },
  {
   "cell_type": "code",
   "execution_count": 53,
   "id": "373bc02b",
   "metadata": {},
   "outputs": [
    {
     "ename": "FileNotFoundError",
     "evalue": "[Errno 2] No such file or directory: 'newfiles/testquestion3.csv'",
     "output_type": "error",
     "traceback": [
      "\u001b[1;31m---------------------------------------------------------------------------\u001b[0m",
      "\u001b[1;31mFileNotFoundError\u001b[0m                         Traceback (most recent call last)",
      "Cell \u001b[1;32mIn[53], line 11\u001b[0m\n\u001b[0;32m      9\u001b[0m     \u001b[38;5;28;01massert\u001b[39;00m \u001b[38;5;129;01mnot\u001b[39;00m lecture_path(\u001b[38;5;124m\"\u001b[39m\u001b[38;5;124mnewfiles/Communaute1.csv\u001b[39m\u001b[38;5;124m\"\u001b[39m)\u001b[38;5;241m==\u001b[39m[\u001b[38;5;124m'\u001b[39m\u001b[38;5;124mBarbra\u001b[39m\u001b[38;5;124m'\u001b[39m,\u001b[38;5;124m'\u001b[39m\u001b[38;5;124mCloe\u001b[39m\u001b[38;5;124m'\u001b[39m,\u001b[38;5;124m'\u001b[39m\u001b[38;5;124mLouis\u001b[39m\u001b[38;5;124m'\u001b[39m,\u001b[38;5;124m'\u001b[39m\u001b[38;5;124mRufino\u001b[39m\u001b[38;5;124m'\u001b[39m,\u001b[38;5;124m'\u001b[39m\u001b[38;5;124mIdelle\u001b[39m\u001b[38;5;124m'\u001b[39m,\u001b[38;5;124m'\u001b[39m\u001b[38;5;124mMady\u001b[39m\u001b[38;5;124m'\u001b[39m,\u001b[38;5;124m'\u001b[39m\u001b[38;5;124mBjörn\u001b[39m\u001b[38;5;124m'\u001b[39m,\u001b[38;5;124m'\u001b[39m\u001b[38;5;124mGiedrius\u001b[39m\u001b[38;5;124m'\u001b[39m]\n\u001b[0;32m     10\u001b[0m     \u001b[38;5;28mprint\u001b[39m(\u001b[38;5;124m\"\u001b[39m\u001b[38;5;124mle test de la question est ok\u001b[39m\u001b[38;5;124m\"\u001b[39m)\n\u001b[1;32m---> 11\u001b[0m \u001b[43mtest_lecture_reseau\u001b[49m\u001b[43m(\u001b[49m\u001b[43m)\u001b[49m\n",
      "Cell \u001b[1;32mIn[53], line 6\u001b[0m, in \u001b[0;36mtest_lecture_reseau\u001b[1;34m()\u001b[0m\n\u001b[0;32m      5\u001b[0m \u001b[38;5;28;01mdef\u001b[39;00m \u001b[38;5;21mtest_lecture_reseau\u001b[39m():\n\u001b[1;32m----> 6\u001b[0m     \u001b[38;5;28;01massert\u001b[39;00m \u001b[43mlecture_path\u001b[49m\u001b[43m(\u001b[49m\u001b[38;5;124;43m\"\u001b[39;49m\u001b[38;5;124;43mnewfiles/testquestion3.csv\u001b[39;49m\u001b[38;5;124;43m\"\u001b[39;49m\u001b[43m)\u001b[49m\u001b[38;5;241m==\u001b[39m[\u001b[38;5;124m'\u001b[39m\u001b[38;5;124mYasmine\u001b[39m\u001b[38;5;124m'\u001b[39m,\u001b[38;5;124m'\u001b[39m\u001b[38;5;124mMuriel\u001b[39m\u001b[38;5;124m'\u001b[39m,\u001b[38;5;124m'\u001b[39m\u001b[38;5;124mJoël\u001b[39m\u001b[38;5;124m'\u001b[39m,\u001b[38;5;124m'\u001b[39m\u001b[38;5;124mYasmine\u001b[39m\u001b[38;5;124m'\u001b[39m,\u001b[38;5;124m'\u001b[39m\u001b[38;5;124mJoël\u001b[39m\u001b[38;5;124m'\u001b[39m,\u001b[38;5;124m'\u001b[39m\u001b[38;5;124mMuriel\u001b[39m\u001b[38;5;124m'\u001b[39m,\u001b[38;5;124m'\u001b[39m\u001b[38;5;124mYasmine\u001b[39m\u001b[38;5;124m'\u001b[39m,\u001b[38;5;124m'\u001b[39m\u001b[38;5;124mThomas\u001b[39m\u001b[38;5;124m'\u001b[39m,\n\u001b[0;32m      7\u001b[0m  \u001b[38;5;124m'\u001b[39m\u001b[38;5;124mJoël\u001b[39m\u001b[38;5;124m'\u001b[39m,\u001b[38;5;124m'\u001b[39m\u001b[38;5;124mNassim\u001b[39m\u001b[38;5;124m'\u001b[39m,\u001b[38;5;124m'\u001b[39m\u001b[38;5;124mAndrea\u001b[39m\u001b[38;5;124m'\u001b[39m,\u001b[38;5;124m'\u001b[39m\u001b[38;5;124mAli\u001b[39m\u001b[38;5;124m'\u001b[39m,\u001b[38;5;124m'\u001b[39m\u001b[38;5;124mJoël\u001b[39m\u001b[38;5;124m'\u001b[39m,\u001b[38;5;124m'\u001b[39m\u001b[38;5;124mAli\u001b[39m\u001b[38;5;124m'\u001b[39m,\u001b[38;5;124m'\u001b[39m\u001b[38;5;124mJoël\u001b[39m\u001b[38;5;124m'\u001b[39m,\u001b[38;5;124m'\u001b[39m\u001b[38;5;124mAndrea\u001b[39m\u001b[38;5;124m'\u001b[39m,\u001b[38;5;124m'\u001b[39m\u001b[38;5;124mNassim\u001b[39m\u001b[38;5;124m'\u001b[39m,\u001b[38;5;124m'\u001b[39m\u001b[38;5;124mAli\u001b[39m\u001b[38;5;124m'\u001b[39m,\u001b[38;5;124m'\u001b[39m\u001b[38;5;124mNassim\u001b[39m\u001b[38;5;124m'\u001b[39m,\u001b[38;5;124m'\u001b[39m\u001b[38;5;124mAndrea\u001b[39m\u001b[38;5;124m'\u001b[39m,\u001b[38;5;124m'\u001b[39m\u001b[38;5;124mThomas\u001b[39m\u001b[38;5;124m'\u001b[39m,\u001b[38;5;124m'\u001b[39m\u001b[38;5;124mDaria\u001b[39m\u001b[38;5;124m'\u001b[39m,\u001b[38;5;124m'\u001b[39m\u001b[38;5;124mThomas\u001b[39m\u001b[38;5;124m'\u001b[39m,\u001b[38;5;124m'\u001b[39m\u001b[38;5;124mCarole\u001b[39m\u001b[38;5;124m'\u001b[39m,\n\u001b[0;32m      8\u001b[0m  \u001b[38;5;124m'\u001b[39m\u001b[38;5;124mThierry\u001b[39m\u001b[38;5;124m'\u001b[39m,\u001b[38;5;124m'\u001b[39m\u001b[38;5;124mAxel\u001b[39m\u001b[38;5;124m'\u001b[39m,\u001b[38;5;124m'\u001b[39m\u001b[38;5;124mLéo\u001b[39m\u001b[38;5;124m'\u001b[39m,\u001b[38;5;124m'\u001b[39m\u001b[38;5;124mThierry\u001b[39m\u001b[38;5;124m'\u001b[39m,\u001b[38;5;124m'\u001b[39m\u001b[38;5;124mLéo\u001b[39m\u001b[38;5;124m'\u001b[39m,\u001b[38;5;124m'\u001b[39m\u001b[38;5;124mAxel\u001b[39m\u001b[38;5;124m'\u001b[39m,\u001b[38;5;124m'\u001b[39m\u001b[38;5;124mLéo\u001b[39m\u001b[38;5;124m'\u001b[39m,\u001b[38;5;124m'\u001b[39m\u001b[38;5;124mValentin\u001b[39m\u001b[38;5;124m'\u001b[39m,\u001b[38;5;124m'\u001b[39m\u001b[38;5;124mAndrea\u001b[39m\u001b[38;5;124m'\u001b[39m,\u001b[38;5;124m'\u001b[39m\u001b[38;5;124mValentin\u001b[39m\u001b[38;5;124m'\u001b[39m]\n\u001b[0;32m      9\u001b[0m     \u001b[38;5;28;01massert\u001b[39;00m \u001b[38;5;129;01mnot\u001b[39;00m lecture_path(\u001b[38;5;124m\"\u001b[39m\u001b[38;5;124mnewfiles/Communaute1.csv\u001b[39m\u001b[38;5;124m\"\u001b[39m)\u001b[38;5;241m==\u001b[39m[\u001b[38;5;124m'\u001b[39m\u001b[38;5;124mBarbra\u001b[39m\u001b[38;5;124m'\u001b[39m,\u001b[38;5;124m'\u001b[39m\u001b[38;5;124mCloe\u001b[39m\u001b[38;5;124m'\u001b[39m,\u001b[38;5;124m'\u001b[39m\u001b[38;5;124mLouis\u001b[39m\u001b[38;5;124m'\u001b[39m,\u001b[38;5;124m'\u001b[39m\u001b[38;5;124mRufino\u001b[39m\u001b[38;5;124m'\u001b[39m,\u001b[38;5;124m'\u001b[39m\u001b[38;5;124mIdelle\u001b[39m\u001b[38;5;124m'\u001b[39m,\u001b[38;5;124m'\u001b[39m\u001b[38;5;124mMady\u001b[39m\u001b[38;5;124m'\u001b[39m,\u001b[38;5;124m'\u001b[39m\u001b[38;5;124mBjörn\u001b[39m\u001b[38;5;124m'\u001b[39m,\u001b[38;5;124m'\u001b[39m\u001b[38;5;124mGiedrius\u001b[39m\u001b[38;5;124m'\u001b[39m]\n\u001b[0;32m     10\u001b[0m     \u001b[38;5;28mprint\u001b[39m(\u001b[38;5;124m\"\u001b[39m\u001b[38;5;124mle test de la question est ok\u001b[39m\u001b[38;5;124m\"\u001b[39m)\n",
      "Cell \u001b[1;32mIn[52], line 6\u001b[0m, in \u001b[0;36mlecture_path\u001b[1;34m(path)\u001b[0m\n\u001b[0;32m      5\u001b[0m \u001b[38;5;28;01mdef\u001b[39;00m \u001b[38;5;21mlecture_path\u001b[39m(path):\n\u001b[1;32m----> 6\u001b[0m     fichier\u001b[38;5;241m=\u001b[39m\u001b[38;5;28;43mopen\u001b[39;49m\u001b[43m(\u001b[49m\u001b[43mpath\u001b[49m\u001b[43m,\u001b[49m\u001b[43mencoding\u001b[49m\u001b[38;5;241;43m=\u001b[39;49m\u001b[38;5;124;43m'\u001b[39;49m\u001b[38;5;124;43mutf-8\u001b[39;49m\u001b[38;5;124;43m'\u001b[39;49m\u001b[43m,\u001b[49m\u001b[43mmode\u001b[49m\u001b[38;5;241;43m=\u001b[39;49m\u001b[38;5;124;43m'\u001b[39;49m\u001b[38;5;124;43mr\u001b[39;49m\u001b[38;5;124;43m'\u001b[39;49m\u001b[43m)\u001b[49m\n\u001b[0;32m      7\u001b[0m     tab\u001b[38;5;241m=\u001b[39m[]\n\u001b[0;32m      8\u001b[0m     li\u001b[38;5;241m=\u001b[39mfichier\u001b[38;5;241m.\u001b[39mreadline()\n",
      "File \u001b[1;32m~\\AppData\\Local\\Packages\\PythonSoftwareFoundation.Python.3.12_qbz5n2kfra8p0\\LocalCache\\local-packages\\Python312\\site-packages\\IPython\\core\\interactiveshell.py:324\u001b[0m, in \u001b[0;36m_modified_open\u001b[1;34m(file, *args, **kwargs)\u001b[0m\n\u001b[0;32m    317\u001b[0m \u001b[38;5;28;01mif\u001b[39;00m file \u001b[38;5;129;01min\u001b[39;00m {\u001b[38;5;241m0\u001b[39m, \u001b[38;5;241m1\u001b[39m, \u001b[38;5;241m2\u001b[39m}:\n\u001b[0;32m    318\u001b[0m     \u001b[38;5;28;01mraise\u001b[39;00m \u001b[38;5;167;01mValueError\u001b[39;00m(\n\u001b[0;32m    319\u001b[0m         \u001b[38;5;124mf\u001b[39m\u001b[38;5;124m\"\u001b[39m\u001b[38;5;124mIPython won\u001b[39m\u001b[38;5;124m'\u001b[39m\u001b[38;5;124mt let you open fd=\u001b[39m\u001b[38;5;132;01m{\u001b[39;00mfile\u001b[38;5;132;01m}\u001b[39;00m\u001b[38;5;124m by default \u001b[39m\u001b[38;5;124m\"\u001b[39m\n\u001b[0;32m    320\u001b[0m         \u001b[38;5;124m\"\u001b[39m\u001b[38;5;124mas it is likely to crash IPython. If you know what you are doing, \u001b[39m\u001b[38;5;124m\"\u001b[39m\n\u001b[0;32m    321\u001b[0m         \u001b[38;5;124m\"\u001b[39m\u001b[38;5;124myou can use builtins\u001b[39m\u001b[38;5;124m'\u001b[39m\u001b[38;5;124m open.\u001b[39m\u001b[38;5;124m\"\u001b[39m\n\u001b[0;32m    322\u001b[0m     )\n\u001b[1;32m--> 324\u001b[0m \u001b[38;5;28;01mreturn\u001b[39;00m \u001b[43mio_open\u001b[49m\u001b[43m(\u001b[49m\u001b[43mfile\u001b[49m\u001b[43m,\u001b[49m\u001b[43m \u001b[49m\u001b[38;5;241;43m*\u001b[39;49m\u001b[43margs\u001b[49m\u001b[43m,\u001b[49m\u001b[43m \u001b[49m\u001b[38;5;241;43m*\u001b[39;49m\u001b[38;5;241;43m*\u001b[39;49m\u001b[43mkwargs\u001b[49m\u001b[43m)\u001b[49m\n",
      "\u001b[1;31mFileNotFoundError\u001b[0m: [Errno 2] No such file or directory: 'newfiles/testquestion3.csv'"
     ]
    }
   ],
   "source": [
    "#Test de la question 3\n",
    "\n",
    "\"\"\"tester la fonction lecture_reseau en entrant en paramètre le chemin vers le fichier \"\"\"\n",
    "\n",
    "def test_lecture_reseau():\n",
    "    assert not lecture_path(\"newfiles/Communaute1.csv\")==['Barbra','Cloe','Louis','Rufino','Idelle','Mady','Björn','Giedrius']\n",
    "    print(\"le test de la question est ok\")\n",
    "test_lecture_reseau()"
   ]
  },
  {
   "cell_type": "code",
   "execution_count": 55,
   "id": "0eaf5fb5",
   "metadata": {},
   "outputs": [],
   "source": [
    "#Question 4\n",
    "\n",
    "\"\"\"Renvoyer un tableau des amis d'une personne dont le nom entré en paramètre\"\"\" \n",
    "\n",
    "def tableau(amis,prenom):\n",
    "    tab=[]\n",
    "    j=0\n",
    "    while j<len(amis):\n",
    "        #si l'élement de l'indice j est égal à prenom\n",
    "        if amis[j]==prenom:\n",
    "            if j%2==0: #si l'indice du tableau est pair              \n",
    "                tab.append(amis[j+1])   #ajouter au tableau le prénom suivant \n",
    "            else:\n",
    "                tab.append(amis[j-1])   #ajouter au tableau le prénom précédant\n",
    "        j+=1\n",
    "    return tab\n",
    "    \n",
    "\"\"\"Créer un dictionnaire qui prend comme clés les prénoms des membres et comme valeur le tableau de leurs amis \"\"\"       \n",
    "        \n",
    "def dico_reseau(amis):\n",
    "    dic={}\n",
    "    amis2=tab_taille_personne(amis)   #créer un tableau amis2 qui contient les prénoms des personnes participant au réseau\n",
    "    i=0\n",
    "    while i<len(amis2):              \n",
    "        dic[amis2[i]]=tableau(amis,amis2[i]) #ajouter le prénom au dictionnaire et prenant comme valeur le tableau de ses amis \n",
    "        i+=1\n",
    "    return dic"
   ]
  },
  {
   "cell_type": "code",
   "execution_count": 56,
   "id": "0e65afbc",
   "metadata": {},
   "outputs": [
    {
     "name": "stdout",
     "output_type": "stream",
     "text": [
      "le test de le fonction est ok\n"
     ]
    }
   ],
   "source": [
    "#Test de la question 4\n",
    "\n",
    "\"\"\" Tester la fonction dico_reseau \"\"\"\n",
    "\n",
    "def test_dico_reseau():\n",
    "    assert dico_reseau(amis)=={'Alice': ['Bob', 'Charlie'], 'Bob': ['Alice', 'Denis'], 'Charlie': ['Alice'], 'Denis': ['Bob']}\n",
    "    assert not dico_reseau(amis)=={'Alice': ['Bob', 'Charlie']}\n",
    "    assert not dico_reseau(p_amis)=={'Muriel':['Yasmine','Daria']}\n",
    "    assert dico_reseau(t_amis)=={'Sarah': ['Aya', 'Frédéric', 'Chloé'],'Aya': ['Sarah', 'Georges'],\n",
    "                                 'Amina': ['Georges'],'Georges': ['Amina', 'Aya'],'Frédéric': ['Sarah'],'Chloé': ['Sarah']}\n",
    "    assert not dico_reseau(t_amis)=={'Aya': ['Sarah', 'Georges']}\n",
    "    print(\"le test de le fonction est ok\")\n",
    "    \n",
    "test_dico_reseau()"
   ]
  },
  {
   "cell_type": "code",
   "execution_count": 61,
   "id": "18c29d89",
   "metadata": {},
   "outputs": [
    {
     "name": "stdout",
     "output_type": "stream",
     "text": [
      "18\n"
     ]
    }
   ],
   "source": [
    "#Question 5\n",
    "\n",
    "\"\"\" Renvoyer le nombre d'amis des personnes les plus populaires du réseau\"\"\"\n",
    "\n",
    "\n",
    "def nb_amis_plus_pop(dico_reseau):\n",
    "    #Créer une tableau tab2nom contenant les prénoms des personnes participant au réseau\n",
    "    tab2nom=list(dico_reseau)\n",
    "    max=0\n",
    "    i=0\n",
    "    \n",
    "    \"\"\"si le nombre d'amis de la personne qui est interpreté par la longueur du tableau est supérieur à max alors\n",
    "    la variable prend la nouvelle valeur\"\"\" \n",
    "    \n",
    "    while i<len(tab2nom):\n",
    "        tab=dico_reseau[tab2nom[i]]   #stocker le tableau des amis de la personne dans un tab \n",
    "        if len(tab) > max :      #condition si la longueur du tableau est supérieur à la valeur de max\n",
    "            max=len(tab)              \n",
    "        i+=1\n",
    "    return max "
   ]
  },
  {
   "cell_type": "code",
   "execution_count": 62,
   "id": "39f81f49",
   "metadata": {},
   "outputs": [
    {
     "name": "stdout",
     "output_type": "stream",
     "text": [
      "le test de la fonction nb_amis_plus_pop est ok\n"
     ]
    }
   ],
   "source": [
    "#test de la question 5\n",
    "\n",
    "\"\"\"définir une fonction test_nb_amis_plus_pop qui teste le nombre d'amis des personnes les plus populaires du réseau\"\"\"\n",
    "\n",
    "def test_nb_amis_plus_pop():\n",
    "    assert nb_amis_plus_pop(dico_reseau(amis))==2\n",
    "    assert nb_amis_plus_pop(dico_reseau(p_amis))==5\n",
    "    assert not nb_amis_plus_pop(dico_reseau(amis))==3\n",
    "    assert not nb_amis_plus_pop(dico_reseau(p_amis))==1\n",
    "    assert nb_amis_plus_pop(dico_reseau(t_amis))==3\n",
    "    assert not nb_amis_plus_pop(dico_reseau(t_amis))==6\n",
    "    assert nb_amis_plus_pop(dico_reseau(lecture_path(\"newfiles/Communaute1.csv\")))==18\n",
    "    print(\"le test de la fonction nb_amis_plus_pop est ok\")\n",
    "    \n",
    "test_nb_amis_plus_pop()"
   ]
  },
  {
   "cell_type": "code",
   "execution_count": 66,
   "id": "c4d726a9",
   "metadata": {},
   "outputs": [],
   "source": [
    "#Question 6\n",
    "\n",
    "\"\"\"Renvoyer un tableau contenant les prénoms de toutes les personnes populaires du réseau\"\"\"\n",
    "\n",
    "def les_plus_pop(dico_reseau):\n",
    "    #Créer un tableau tab2nom contenant les prénoms des personnes participant au réseau\n",
    "    tab2nom=list(dico_reseau)\n",
    "    tab2pop=[] \n",
    "   \n",
    "    i=0\n",
    "    while i<len(tab2nom): \n",
    "        tab=dico_reseau[tab2nom[i]]\n",
    "        \n",
    "        #si le nombre d'amis est égal au nombre maximal des amis dans ce réseau ajouter son préonm au tableau des populaires\n",
    "        if len(tab) == nb_amis_plus_pop(dico_reseau) : \n",
    "            tab2pop.append(tab2nom[i])  \n",
    "        i+=1\n",
    "        \n",
    "    return tab2pop"
   ]
  },
  {
   "cell_type": "code",
   "execution_count": 67,
   "id": "a9c2cceb",
   "metadata": {},
   "outputs": [
    {
     "name": "stdout",
     "output_type": "stream",
     "text": [
      "le test de la fonction les_plus_pop est ok \n"
     ]
    }
   ],
   "source": [
    "#Test de la question 6\n",
    "\n",
    "\"\"\"Une fonction qui teste les trois tableau \"\"\"\n",
    "\n",
    "def test_les_plus_pop():\n",
    "    assert les_plus_pop(dico_reseau(amis))==['Alice', 'Bob']\n",
    "    assert not les_plus_pop(dico_reseau(amis))==['Denis']\n",
    "    assert les_plus_pop(dico_reseau(p_amis))==['Joël']\n",
    "    assert not les_plus_pop(dico_reseau(p_amis))==[\"Andrea\"]\n",
    "    assert les_plus_pop(dico_reseau(t_amis))==['Sarah']\n",
    "    assert not les_plus_pop(dico_reseau(lecture_path(\"newfiles/Communaute1.csv\")))==['Rufino', 'Mady', 'Vittorio']\n",
    "    print(\"le test de la fonction les_plus_pop est ok \")\n",
    "    \n",
    "test_les_plus_pop()"
   ]
  },
  {
   "cell_type": "code",
   "execution_count": null,
   "id": "c9003108",
   "metadata": {},
   "outputs": [],
   "source": []
  }
 ],
 "metadata": {
  "kernelspec": {
   "display_name": "Python 3 (ipykernel)",
   "language": "python",
   "name": "python3"
  },
  "language_info": {
   "codemirror_mode": {
    "name": "ipython",
    "version": 3
   },
   "file_extension": ".py",
   "mimetype": "text/x-python",
   "name": "python",
   "nbconvert_exporter": "python",
   "pygments_lexer": "ipython3",
   "version": "3.12.4"
  }
 },
 "nbformat": 4,
 "nbformat_minor": 5
}
